{
 "cells": [
  {
   "cell_type": "markdown",
   "metadata": {},
   "source": [
    "# *Decision Tree* classification of Countries of the World data\n",
    "\n",
    "Determine whether Decision Tree Learning can predict the birth rate class of a given country (low, medium or high) based on a set of input features.\n",
    "\n",
    "- Data is provided for 224 countries\n",
    "- Up to 18 input features available per country \n",
    "\n",
    "**Tasks**:\n",
    "- Select a subset of suitable input features\n",
    "- Prepare the data for Scikit Learn  \n",
    "- Create a training and testing sample \n",
    "- Run the decision tree classification process and evaluate predictive power  \n",
    "- Investigate prediction accuracy changes with sample variation, hyper-parameter tuning and ensemble methods  "
   ]
  },
  {
   "cell_type": "markdown",
   "metadata": {},
   "source": [
    "### Notes on the assessment \n",
    "- Please follow the **8** tasks provided \n",
    "- All tasks have an assoicated mark \n",
    "- Code must be understandable and reproducible. Before grading the notebook kernel will be **restarted** and **re-run**\n",
    "- If you are unsure on how to proceed please reference the *IRIS dataset* notebooks for relevant examples\n",
    "- Please ask one of the TAs if you are really stuck!\n",
    "- If you are unable to complete the question highlight what approaches you should take to extract the data and result of interest\n",
    "- Notebooks will be graded from now until end of next week "
   ]
  },
  {
   "cell_type": "markdown",
   "metadata": {},
   "source": [
    "### Notes on the setup and notebook\n",
    "- This notebook will **not** work on the Lab PCs machines by default and will need to be launched within a virtual environment with all the packages installed. See `setup-instructions.md` for more details \n",
    "- Successful installation is not part of the assessment so please ask one of the teaching assistants for help if you have any problems running the code\n",
    "- The countries data is provided by calling `dt_utils.gendata()` and preprocessed for use in your analysis. As an alternative you can choose to read the data directly from the CSV file"
   ]
  },
  {
   "cell_type": "code",
   "execution_count": null,
   "metadata": {},
   "outputs": [],
   "source": [
    "import pandas as pd\n",
    "import numpy as np\n",
    "import matplotlib.pyplot as plt\n",
    "from sklearn import datasets, tree, metrics, model_selection, ensemble\n",
    "from sklearn.externals.six import StringIO \n",
    "from IPython.display import Image\n",
    "import pydotplus\n",
    "import itertools\n",
    "import seaborn as sns\n",
    "from scipy import stats\n",
    "import dt_utils\n",
    "%matplotlib inline "
   ]
  },
  {
   "cell_type": "markdown",
   "metadata": {},
   "source": [
    "#### 1. Data Extraction: Complete the following steps to prepare the data for Decision Tree Training and Testing (**2 Marks**)\n",
    "- Select any **four** features as input into the Decision Tree. The features can be any of the following: \n",
    "  - Country, Region, Population, Area, Density, Coastline, Migration, InfantMortality, GDP, Literacy, Phones, Arable, Crops, OtherLand, Climate, Deathrate, Agriculture, Industry, Service\n",
    "  - More information on the dataset is available [here](https://www.kaggle.com/fernandol/countries-of-the-world)\n",
    "- Assign your choices to the `features` variable as a list of strings\n",
    "- Extract the data using the `dt_utils.gendata()` utility method provided. This method will provide all your selected feature data (per country) in a 2D array with the last column holding our target value (Birth Rate)  \n",
    "- Split the data into `data` and `target` arrays where:\n",
    "  - `data` is an 2D array holding your **feature data** for each country\n",
    "  - `target` is a 1D array holding the **birth rate** for each column\n",
    "\n",
    "**Note**: The \"Region\" feature will need pre-processing before being used as input into a Decision Tree. I can provide a code snippet to show how to encode the feature - but it might be best avoided in your initial selection."
   ]
  },
  {
   "cell_type": "code",
   "execution_count": null,
   "metadata": {},
   "outputs": [],
   "source": [
    "bclass = ['low', 'medium', 'high'] # birth rate class (provided)\n",
    "features = [] # feature data for you to define"
   ]
  },
  {
   "cell_type": "markdown",
   "metadata": {},
   "source": [
    "#### 2. Generate 6 x 2D plots showing the feature distribution of your selected observations (**1 Mark**)\n",
    "\n",
    "- Use one of the utility methods in `dt_utils` to plot the distributions"
   ]
  },
  {
   "cell_type": "code",
   "execution_count": null,
   "metadata": {},
   "outputs": [],
   "source": []
  },
  {
   "cell_type": "markdown",
   "metadata": {},
   "source": [
    "#### 3. Construct and train a decision tree to classify weather type based on your training data with the following requirements (**1 Mark**): \n",
    "- 70% of the observations are reserved for training\n",
    "- Tree depth is limited to 5 "
   ]
  },
  {
   "cell_type": "code",
   "execution_count": null,
   "metadata": {},
   "outputs": [],
   "source": []
  },
  {
   "cell_type": "markdown",
   "metadata": {},
   "source": [
    "#### 4. Show the generated decision tree logic (**1 Mark**): \n",
    "- Just use the utility method available in `dt_utils` to generate the tree"
   ]
  },
  {
   "cell_type": "code",
   "execution_count": null,
   "metadata": {},
   "outputs": [],
   "source": []
  },
  {
   "cell_type": "markdown",
   "metadata": {},
   "source": [
    "#### 5. Display a classification report and confusion matrix for your predictions using the test sample (**1 Mark**)\n",
    "- Use on the utility methods to plot the confusion matrix\n",
    "- How many false positives and false negatives do you have for the high birth rate class? "
   ]
  },
  {
   "cell_type": "code",
   "execution_count": null,
   "metadata": {},
   "outputs": [],
   "source": []
  },
  {
   "cell_type": "markdown",
   "metadata": {},
   "source": [
    "#### 6. Run cross-validaton to determine the average accuracy (**1 Mark**)\n",
    "- Split the data into **5** folds\n",
    "- Use the whole dataset as part of the cross-validation"
   ]
  },
  {
   "cell_type": "code",
   "execution_count": null,
   "metadata": {},
   "outputs": [],
   "source": []
  },
  {
   "cell_type": "markdown",
   "metadata": {},
   "source": [
    "#### 7. Perform a grid-search on **two** suitable hyper-parameters of your own choosing to look for higher accuracy (**1 Mark**)\n",
    "- Limit the search to a 8x8 grid\n",
    "- Use the same 70/30 split of training/testing data as before  \n",
    "- Determine the best combination of hyper-parameters\n",
    "- Re-apply the decision tree fit and evaluate performance \n",
    "\n",
    "Notes: \n",
    "- The distance between successive points does not have to be uniform\n",
    "- Make reasonable choices for the range of values chosen (you will be asked about your reasoning) \n",
    "- Apply the grid-search to your **training** data "
   ]
  },
  {
   "cell_type": "code",
   "execution_count": null,
   "metadata": {},
   "outputs": [],
   "source": []
  },
  {
   "cell_type": "markdown",
   "metadata": {},
   "source": [
    "#### 8. Repeat your decision tree analysis to try and improve upon your classification performance (**3 Marks**)\n",
    "\n",
    "Consider the following: \n",
    "- Will more than four features as input improve the classification? \n",
    "- Which is the most prominent feature that can help predict birth rate?\n",
    "- Why do you think a given input feature is a good predictor of the target feature? \n",
    "- Are the parameters of your chosen decision tree optimal? \n",
    "- Would using an ensemble method help produce improved classification? \n",
    "- Is there any signification variation in accuracy by modifying the testing and training sample proportion?  \n",
    "\n",
    "Notes: \n",
    "- If you get over 90% accuracy well done! However, the approaches taken are important, not the final result. Make sure you can justify each of the steps you took when being graded\n",
    "- Do not try and plot decision surfaces with this dataset (the data needs to be normalised first) "
   ]
  },
  {
   "cell_type": "code",
   "execution_count": null,
   "metadata": {},
   "outputs": [],
   "source": []
  }
 ],
 "metadata": {
  "kernelspec": {
   "display_name": "Python 3",
   "language": "python",
   "name": "python3"
  },
  "language_info": {
   "codemirror_mode": {
    "name": "ipython",
    "version": 3
   },
   "file_extension": ".py",
   "mimetype": "text/x-python",
   "name": "python",
   "nbconvert_exporter": "python",
   "pygments_lexer": "ipython3",
   "version": "3.7.0"
  }
 },
 "nbformat": 4,
 "nbformat_minor": 2
}
